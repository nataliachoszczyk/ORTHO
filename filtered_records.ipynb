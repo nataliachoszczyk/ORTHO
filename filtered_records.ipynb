{
 "cells": [
  {
   "cell_type": "code",
   "id": "initial_id",
   "metadata": {
    "collapsed": true,
    "ExecuteTime": {
     "end_time": "2025-05-05T10:54:30.646411Z",
     "start_time": "2025-05-05T10:54:30.216234Z"
    }
   },
   "source": [
    "import pandas as pd\n",
    "import numpy as np\n",
    "import orjson, os\n",
    "from pathlib import Path\n",
    "from typing import Any"
   ],
   "outputs": [],
   "execution_count": 1
  },
  {
   "metadata": {
    "ExecuteTime": {
     "end_time": "2025-05-05T10:54:31.861174Z",
     "start_time": "2025-05-05T10:54:31.848854Z"
    }
   },
   "cell_type": "code",
   "source": [
    "def _encode(obj: Any):\n",
    "    if isinstance(obj, pd.DataFrame):\n",
    "        return {\n",
    "            \"__pd_dataframe__\": True,\n",
    "            \"columns\": obj.columns.tolist(),\n",
    "            \"data\": obj.to_dict(\"records\"),\n",
    "        }\n",
    "    if isinstance(obj, (np.generic,)):\n",
    "        return obj.item()\n",
    "    raise TypeError\n",
    "\n",
    "def dump_jsonl(iterable, path):\n",
    "    tmp = path.with_suffix(\".tmp\")\n",
    "    with tmp.open(\"wb\") as f:\n",
    "        for row in iterable:\n",
    "            f.write(orjson.dumps(row, default=_encode))\n",
    "            f.write(b\"\\n\")\n",
    "        f.flush(); os.fsync(f.fileno())\n",
    "    os.replace(tmp, path)\n",
    "\n",
    "def resurrect(obj: Any):\n",
    "    if isinstance(obj, dict):\n",
    "        if obj.get(\"__pd_dataframe__\"):\n",
    "            return pd.DataFrame(obj[\"data\"], columns=obj[\"columns\"])\n",
    "        return {k: resurrect(v) for k, v in obj.items()}\n",
    "    if isinstance(obj, list):\n",
    "        return [resurrect(v) for v in obj]\n",
    "    return obj\n",
    "\n",
    "def load_jsonl(path: Path):\n",
    "    with path.open(\"rb\") as f:\n",
    "        for line in f:\n",
    "            plain = orjson.loads(line)\n",
    "            yield resurrect(plain)"
   ],
   "id": "f8dea413724c9e72",
   "outputs": [],
   "execution_count": 2
  },
  {
   "metadata": {
    "ExecuteTime": {
     "end_time": "2025-05-05T11:03:53.192415Z",
     "start_time": "2025-05-05T11:03:53.180824Z"
    }
   },
   "cell_type": "code",
   "source": [
    "# data - all filtered records for tracks 1 - 7 with added percent of completion in file 'filtered_records_1_to_7.jsonl'\n",
    "# split into 7 files, one for each track\n",
    "\n",
    "# https://wutwaw-my.sharepoint.com/:f:/g/personal/01161476_pw_edu_pl/EvWK0T-5Y61FlRiFfp0IEPEBAM63WUY5IVUj0h_CH2f1HA?e=aCLg3b\n",
    "\n",
    "# how to read jsonl file\n",
    "gen = load_jsonl(Path(\"filtered_records_1_to_7.jsonl\")) # this is a generator so it will not load the whole file into memory\n",
    "\n",
    "# you load the whole file into memory (2.5 GB)\n",
    "# records_all = list(gen)\n",
    "\n",
    "# or you can use generator and process it in chunks\n",
    "for record in gen:\n",
    "    # do something with record\n",
    "    print(record)\n",
    "    break"
   ],
   "id": "ad803b39f9e23760",
   "outputs": [
    {
     "name": "stdout",
     "output_type": "stream",
     "text": [
      "{'Volume': 100, 'Global_Date': '20240102', 'ID': '20240102-0000', 'Date': '20240102', 'Consent': True, 'Team_Name': 'BJ2 00', 'Selected_Language': 0, 'Consent_Time_X_axis': '09:30:48:500', 'Age_X_axis': 25.0, 'Companionship_X_axis': 1, 'Question_Time_X_axis': '09:30:55:925', 'Consent_Time_Y_axis': '09:30:27:247', 'Age_Y_axis': 24.0, 'Companionship_Y_axis': 1, 'Question_Time_Y_axis': '09:30:40:859', 'StartTime': '09:30:27:247', 'ClosingTime': '09:38:18:265', 'Completed': True, 'TerminationType': 2, 'track_Track_ID': 2, 'track_Difficulty_Level': 0, 'track_StartTime': '09:31:04:583', 'track_ClosingTime': '09:31:49:178', 'track_Time': 44594, 'track_Mistake': False, 'track_Completed': True, 'track_Interface_Mode': [], 'Points':          X     Y          Time  Status\n",
      "0        0     0  09:31:04:583       0\n",
      "1        1     0  09:31:04:615       1\n",
      "2        2     0  09:31:04:649       1\n",
      "3        3     0  09:31:04:683       1\n",
      "4        4     0  09:31:04:716       1\n",
      "...    ...   ...           ...     ...\n",
      "2294  1755  1792  09:31:49:110       1\n",
      "2295  1759  1792  09:31:49:127       1\n",
      "2296  1767  1792  09:31:49:144       1\n",
      "2297  1769  1792  09:31:49:160       1\n",
      "2298  1775  1792  09:31:49:178       2\n",
      "\n",
      "[2299 rows x 4 columns], 'track_Completion_percent': 1}\n"
     ]
    }
   ],
   "execution_count": 4
  },
  {
   "metadata": {},
   "cell_type": "code",
   "outputs": [],
   "execution_count": null,
   "source": [
    "# how to save jsonl file\n",
    "# sample_records should be a list of dicts\n",
    "sample_records = [{'a': 1, 'b': 2}, {'a': 3, 'b': 4}]\n",
    "dump_jsonl(sample_records, Path(\"sample_records.jsonl\"))"
   ],
   "id": "6d6c4f89de5b8d1d"
  }
 ],
 "metadata": {
  "kernelspec": {
   "display_name": "Python 3",
   "language": "python",
   "name": "python3"
  },
  "language_info": {
   "codemirror_mode": {
    "name": "ipython",
    "version": 2
   },
   "file_extension": ".py",
   "mimetype": "text/x-python",
   "name": "python",
   "nbconvert_exporter": "python",
   "pygments_lexer": "ipython2",
   "version": "2.7.6"
  }
 },
 "nbformat": 4,
 "nbformat_minor": 5
}
