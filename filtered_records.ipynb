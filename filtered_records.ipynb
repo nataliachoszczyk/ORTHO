{
 "cells": [
  {
   "cell_type": "code",
   "execution_count": 10,
   "id": "initial_id",
   "metadata": {
    "ExecuteTime": {
     "end_time": "2025-05-05T10:54:30.646411Z",
     "start_time": "2025-05-05T10:54:30.216234Z"
    },
    "collapsed": true
   },
   "outputs": [],
   "source": [
    "import pandas as pd\n",
    "import numpy as np\n",
    "import orjson, os\n",
    "from pathlib import Path\n",
    "from typing import Any"
   ]
  },
  {
   "cell_type": "code",
   "execution_count": 12,
   "id": "f8dea413724c9e72",
   "metadata": {
    "ExecuteTime": {
     "end_time": "2025-05-05T10:54:31.861174Z",
     "start_time": "2025-05-05T10:54:31.848854Z"
    }
   },
   "outputs": [],
   "source": [
    "def _encode(obj: Any):\n",
    "    if isinstance(obj, pd.DataFrame):\n",
    "        return {\n",
    "            \"__pd_dataframe__\": True,\n",
    "            \"columns\": obj.columns.tolist(),\n",
    "            \"data\": obj.to_dict(\"records\"),\n",
    "        }\n",
    "    if isinstance(obj, (np.generic,)):\n",
    "        return obj.item()\n",
    "    raise TypeError\n",
    "\n",
    "def dump_jsonl(iterable, path):\n",
    "    tmp = path.with_suffix(\".tmp\")\n",
    "    with tmp.open(\"wb\") as f:\n",
    "        for row in iterable:\n",
    "            f.write(orjson.dumps(row, default=_encode))\n",
    "            f.write(b\"\\n\")\n",
    "        f.flush(); os.fsync(f.fileno())\n",
    "    os.replace(tmp, path)\n",
    "\n",
    "def resurrect(obj: Any):\n",
    "    if isinstance(obj, dict):\n",
    "        if obj.get(\"__pd_dataframe__\"):\n",
    "            return pd.DataFrame(obj[\"data\"], columns=obj[\"columns\"])\n",
    "        return {k: resurrect(v) for k, v in obj.items()}\n",
    "    if isinstance(obj, list):\n",
    "        return [resurrect(v) for v in obj]\n",
    "    return obj\n",
    "\n",
    "def load_jsonl(path: Path):\n",
    "    with path.open(\"rb\") as f:\n",
    "        for line in f:\n",
    "            plain = orjson.loads(line)\n",
    "            yield resurrect(plain)"
   ]
  },
  {
   "cell_type": "code",
   "execution_count": 13,
   "id": "ad803b39f9e23760",
   "metadata": {
    "ExecuteTime": {
     "end_time": "2025-05-05T11:03:53.192415Z",
     "start_time": "2025-05-05T11:03:53.180824Z"
    }
   },
   "outputs": [
    {
     "name": "stdout",
     "output_type": "stream",
     "text": [
      "{'Volume': 100, 'Global_Date': '20240102', 'ID': '20240102-0003', 'Date': '20240102', 'Consent': True, 'Team_Name': 'BJ2 03', 'Selected_Language': 0, 'Consent_Time_X_axis': '09:58:37:166', 'Age_X_axis': 44.0, 'Companionship_X_axis': 0, 'Question_Time_X_axis': '09:58:43:705', 'Consent_Time_Y_axis': '09:58:39:368', 'Age_Y_axis': 8.0, 'Companionship_Y_axis': 0, 'Question_Time_Y_axis': '09:58:56:652', 'StartTime': '09:58:37:166', 'ClosingTime': '10:06:28:954', 'Completed': True, 'TerminationType': 0, 'track_Track_ID': 1, 'track_Difficulty_Level': 0, 'track_StartTime': '09:59:10:082', 'track_ClosingTime': '09:59:42:281', 'track_Time': 32198, 'track_Mistake': False, 'track_Completed': True, 'track_Interface_Mode': [], 'Points':         X    Y          Time  Status\n",
      "0       0    0  09:59:10:082       0\n",
      "1       2    0  09:59:10:098       1\n",
      "2       3    0  09:59:10:115       1\n",
      "3       4    0  09:59:10:148       1\n",
      "4       5    0  09:59:10:215       1\n",
      "...   ...  ...           ...     ...\n",
      "1407  790  855  09:59:42:213       1\n",
      "1408  798  855  09:59:42:230       1\n",
      "1409  802  855  09:59:42:247       1\n",
      "1410  809  855  09:59:42:264       1\n",
      "1411  818  855  09:59:42:281       2\n",
      "\n",
      "[1412 rows x 4 columns], 'track_Completion_percent': 1}\n"
     ]
    }
   ],
   "source": [
    "# data - all filtered records for tracks 1 - 7 with added percent of completion in file 'filtered_records_1_to_7.jsonl'\n",
    "# split into 7 files, one for each track\n",
    "\n",
    "# https://wutwaw-my.sharepoint.com/:f:/g/personal/01161476_pw_edu_pl/EvWK0T-5Y61FlRiFfp0IEPEBAM63WUY5IVUj0h_CH2f1HA?e=aCLg3b\n",
    "\n",
    "# how to read jsonl file\n",
    "gen = load_jsonl(Path(\"../filtered_data/filtered_records_1_metrics.jsonl\")) # this is a generator so it will not load the whole file into memory\n",
    "\n",
    "# you load the whole file into memory (2.5 GB)\n",
    "# records_all = list(gen)\n",
    "\n",
    "# or you can use generator and process it in chunks\n",
    "for record in gen:\n",
    "    # do something with record\n",
    "    print(record)\n",
    "    break"
   ]
  },
  {
   "cell_type": "code",
   "execution_count": 16,
   "id": "dac7515c",
   "metadata": {},
   "outputs": [
    {
     "name": "stdout",
     "output_type": "stream",
     "text": [
      "ID: 20240102-0003, Smoothness: 0.03718318657511171, Stair Ratio: 0.7512402551381998\n"
     ]
    }
   ],
   "source": [
    "# Assuming load_jsonl is a function that loads your JSONL file\n",
    "gen = load_jsonl(Path(\"../filtered_data/filtered_records_1_metrics.jsonl\"))  # this is a generator so it will not load the whole file into memory\n",
    "\n",
    "# You can iterate over the generator and print only the selected fields\n",
    "for record in gen:\n",
    "    # Sprawdzamy, czy klucze istnieją w rekordzie\n",
    "    if 'smoothness' in record and 'stair_ratio' in record:\n",
    "        record_id = record['ID']\n",
    "        smoothness = record['smoothness']\n",
    "        stair_ratio = record['stair_ratio']\n",
    "        print(f\"ID: {record_id}, Smoothness: {smoothness}, Stair Ratio: {stair_ratio}\")\n",
    "    else:\n",
    "        print(\"Brak danych smoothness/stair_ratio w rekordzie.\")\n",
    "    break  # Tylko dla pierwszego rekordu\n"
   ]
  },
  {
   "cell_type": "code",
   "execution_count": 5,
   "id": "6d6c4f89de5b8d1d",
   "metadata": {},
   "outputs": [],
   "source": [
    "# how to save jsonl file\n",
    "# sample_records should be a list of dicts\n",
    "sample_records = [{'a': 1, 'b': 2}, {'a': 3, 'b': 4}]\n",
    "dump_jsonl(sample_records, Path(\"sample_records.jsonl\"))"
   ]
  }
 ],
 "metadata": {
  "kernelspec": {
   "display_name": "base",
   "language": "python",
   "name": "python3"
  },
  "language_info": {
   "codemirror_mode": {
    "name": "ipython",
    "version": 3
   },
   "file_extension": ".py",
   "mimetype": "text/x-python",
   "name": "python",
   "nbconvert_exporter": "python",
   "pygments_lexer": "ipython3",
   "version": "3.12.3"
  }
 },
 "nbformat": 4,
 "nbformat_minor": 5
}
